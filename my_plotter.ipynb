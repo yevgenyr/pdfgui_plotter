{
 "cells": [
  {
   "cell_type": "code",
   "execution_count": 1,
   "id": "e2b39364-0a79-4b02-a33b-cd7f9cba59ad",
   "metadata": {
    "tags": []
   },
   "outputs": [],
   "source": [
    "import os\n",
    "import pandas as pd\n",
    "import numpy as np\n"
   ]
  },
  {
   "cell_type": "code",
   "execution_count": 2,
   "id": "15244745-20d2-495a-809d-fa8c3f73672b",
   "metadata": {
    "tags": []
   },
   "outputs": [],
   "source": [
    "# WIDGETS\n",
    "import ipywidgets as widgets\n",
    "from ipywidgets import interact, interactive, fixed, interact_manual\n",
    "from IPython.display import display"
   ]
  },
  {
   "cell_type": "code",
   "execution_count": 19,
   "id": "22de0dfc-a26a-4a95-804d-99c181a4a9a0",
   "metadata": {
    "tags": []
   },
   "outputs": [],
   "source": [
    "# plot\n",
    "import matplotlib.pyplot as plt\n",
    "import bg_mpl_stylesheet\n",
    "from bg_mpl_stylesheet.bg_mpl_stylesheet import bg_mpl_style\n",
    "plt.style.use(bg_mpl_style)\n",
    "plt.ion()\n",
    "%matplotlib qt"
   ]
  },
  {
   "cell_type": "code",
   "execution_count": 4,
   "id": "56d32636-cecf-4939-becd-08b3137f945f",
   "metadata": {
    "tags": []
   },
   "outputs": [],
   "source": [
    "# change to inline\n",
    "%matplotlib inline"
   ]
  },
  {
   "cell_type": "code",
   "execution_count": 5,
   "id": "fbf650e1-243e-4a37-852a-a382ed77757a",
   "metadata": {
    "tags": []
   },
   "outputs": [],
   "source": [
    "def get_x_fitting_range(x, y, xrange: list):\n",
    "    # x bound\n",
    "    if xrange[0] == \"min\":\n",
    "        xmin = float(x.min())\n",
    "    else:\n",
    "        xmin = float(xrange[0])\n",
    "    if xrange[1] == \"max\":\n",
    "        xmax = float(x.max())\n",
    "    else:\n",
    "        xmax = float(xrange[1])\n",
    "    assert all([isinstance(xmin, float), isinstance(xmax, float)])\n",
    "    \n",
    "    bool_range = np.logical_and((x <= xmax), (x >= xmin))\n",
    "    _x = x[bool_range]\n",
    "    _y = list()\n",
    "    for i, yi in enumerate(y):\n",
    "        yi = yi[bool_range]\n",
    "        _y.append(yi)\n",
    "    return _x, np.array(_y)"
   ]
  },
  {
   "cell_type": "code",
   "execution_count": 6,
   "id": "833dce8b-e55c-4d05-9cc8-094ac6cf78db",
   "metadata": {
    "jupyter": {
     "source_hidden": true
    },
    "tags": []
   },
   "outputs": [],
   "source": [
    "def xy_dim_labels(xy_lable: str):\n",
    "    dim_y = xy_lable[0]\n",
    "    dim_x = xy_lable[1]\n",
    "    if dim_y == 'i':\n",
    "        dim_y = 'I (a.u.)'\n",
    "    elif dim_y == 's':\n",
    "        dim_y = 'S ($\\mathrm{\\AA^{-1}})$'\n",
    "    elif dim_y == 'f':\n",
    "        dim_y = 'F ($\\mathrm{\\AA^{-1}})$'\n",
    "    elif dim_y == 'g':\n",
    "        dim_y = 'G ($\\mathrm{\\AA^{-2}})$'\n",
    "    if dim_x == 'q':\n",
    "        dim_x = 'Q ($\\mathrm{\\AA^{-1}})$'\n",
    "    elif dim_x == 'r':\n",
    "        dim_x = 'r ($\\mathrm{\\AA})$'\n",
    "    return dim_x, dim_y"
   ]
  },
  {
   "cell_type": "code",
   "execution_count": 7,
   "id": "691cdc9e-ae5b-49a8-8923-687b59f0475b",
   "metadata": {
    "jupyter": {
     "source_hidden": true
    },
    "tags": []
   },
   "outputs": [],
   "source": [
    "# archive  \n",
    "def _plot(files, xrange, yshift):\n",
    "    fig, ax = plt.subplots(len(files), num='fits')\n",
    "    if not isinstance(ax, list):\n",
    "        ax = [ax]\n",
    "    for i, fname in enumerate(files):\n",
    "        # collect data \n",
    "        dat = np.loadtxt(fname).T\n",
    "        x = dat[0]\n",
    "        y = dat[1:4]\n",
    "        x, y = get_x_fitting_range(x, y, xrange)    \n",
    "        r = x\n",
    "        g, diff, fit = y[0:3]\n",
    "        # plot\n",
    "        ax[i].set_title(f\"Fit:  {fname}\")\n",
    "        dim_x, dim_y = xy_dim_labels(data_type.value)\n",
    "        ax[i].set_xlabel(dim_x)\n",
    "        ax[i].set_ylabel(dim_y)\n",
    "        ax[i].set_xlim(r.min(),r.max())\n",
    "\n",
    "        ## data\n",
    "        ax[i].plot(r, np.zeros(len(r)), alpha=0.5, c='C4')\n",
    "        ax[i].plot(r, g, alpha=0.8, marker='o', fillstyle='none', markersize=7,  c=\"C0\", label='data')\n",
    "\n",
    "        ## fit\n",
    "        ax[i].plot(r, fit, alpha=0.8, c=\"C1\", label='fit')\n",
    "\n",
    "        ## diff\n",
    "        ax[i].plot(r, np.zeros(len(r)) + (yshift), alpha=0.7, c='C4')\n",
    "        ax[i].plot(r, diff + (yshift), alpha=0.8, c=\"C2\", label='diff')\n",
    "        ax[i].legend()\n"
   ]
  },
  {
   "cell_type": "code",
   "execution_count": 8,
   "id": "96a186ba-27cb-4baf-93c4-14cbf84f3de9",
   "metadata": {
    "tags": []
   },
   "outputs": [],
   "source": [
    "# minv = widgets.FloatSlider(min=x.min(), max=x.max(), value=x.min(), continuous_update= True)\n",
    "# maxv = widgets.FloatSlider(min=x.min(), max=x.max(), value=x.max(), continuous_update= True)\n",
    "# diff_shift = widgets.FloatSlider(min=-5, max=5, value=0, step=0.1, continuous_update= True)\n",
    "\n",
    "# ui = widgets.VBox([widgets.HBox([widgets.Label(\"min :\"), minv]), \n",
    "#                          widgets.HBox([widgets.Label(\"max :\"), maxv]),\n",
    "#                          widgets.HBox([widgets.Label(\"diff shift\"),diff_shift])\n",
    "#                         ])\n",
    "# def f(minv, maxv, diff_shift):\n",
    "#     print((minv, maxv, diff_shift))\n",
    "\n",
    "# config = widgets.interactive_output(f, {'minv': minv, 'maxv': maxv, 'diff_shift': diff_shift})\n",
    "\n",
    "# display(ui)"
   ]
  },
  {
   "cell_type": "code",
   "execution_count": 9,
   "id": "31e28daf-1977-4102-8b7e-6f76b92398a2",
   "metadata": {
    "tags": []
   },
   "outputs": [],
   "source": [
    "# # setup \n",
    "# xmin, xmax, yshift = list(map(eval,config.outputs[0]['text'].strip().strip('()').split(',')))\n",
    "# xrange = [xmin, xmax]"
   ]
  },
  {
   "cell_type": "code",
   "execution_count": 21,
   "id": "91a0acbb-a6c6-4570-a7ae-ff8e989e19c1",
   "metadata": {},
   "outputs": [],
   "source": [
    "# plot\n",
    "def plot(fname, data_type, xmin, xmax, yshift):\n",
    "    plt.clf()\n",
    "    fig, ax = plt.subplots(num='fits')\n",
    "\n",
    "    # collect data \n",
    "    dat = np.loadtxt(fname).T\n",
    "    x = dat[0]\n",
    "    y = dat[1:4]\n",
    "    x, y = get_x_fitting_range(x, y, [xmin, xmax])    \n",
    "    \n",
    "    # assign\n",
    "    r = x\n",
    "    g, diff, fit = y[0:3]\n",
    "    \n",
    "    # plot\n",
    "    ax.set_title(f\"Fit:  {fname}\")\n",
    "    dim_x, dim_y = xy_dim_labels(data_type)\n",
    "    ax.set_xlabel(dim_x)\n",
    "    ax.set_ylabel(dim_y)\n",
    "    ax.set_xlim(r.min(),r.max())\n",
    "\n",
    "    ## data\n",
    "    ax.plot(r, np.zeros(len(r)), alpha=0.5, c='C4')\n",
    "    ax.plot(r, g, alpha=0.8, marker='o', fillstyle='none', markersize=7,  c=\"C0\", label='data')\n",
    "\n",
    "    ## fit\n",
    "    ax.plot(r, fit, alpha=0.8, c=\"C1\", label='fit')\n",
    "\n",
    "    ## diff\n",
    "    ax.plot(r, np.zeros(len(r)) + (yshift), alpha=0.7, c='C4')\n",
    "    ax.plot(r, diff + (yshift), alpha=0.8, c=\"C2\", label='diff')\n",
    "    ax.legend()\n"
   ]
  },
  {
   "cell_type": "code",
   "execution_count": 11,
   "id": "ce57b5db-8448-4b68-8509-b8d8a4b7ecb2",
   "metadata": {
    "tags": []
   },
   "outputs": [
    {
     "data": {
      "application/vnd.jupyter.widget-view+json": {
       "model_id": "29008b2ceb574fd8bef50ce5b2788a7e",
       "version_major": 2,
       "version_minor": 0
      },
      "text/plain": [
       "HBox(children=(Label(value='dirpath:'), Text(value='./')))"
      ]
     },
     "metadata": {},
     "output_type": "display_data"
    },
    {
     "data": {
      "application/vnd.jupyter.widget-view+json": {
       "model_id": "23ec9bd8e2694559bd6942aab2a11b67",
       "version_major": 2,
       "version_minor": 0
      },
      "text/plain": [
       "HBox(children=(Label(value='files :'), FileUpload(value={}, description='Upload', multiple=True)))"
      ]
     },
     "metadata": {},
     "output_type": "display_data"
    }
   ],
   "source": [
    "# setup\n",
    "\n",
    "dirpath = widgets.Text('./')\n",
    "w_dirpath = widgets.HBox([widgets.Label(\"dirpath:\"), dirpath])\n",
    "\n",
    "\n",
    "# data_type = widgets.Dropdown(options=['gr', 'fq', 'sq', 'iq'])\n",
    "# w_data_type = widgets.HBox([widgets.Label(\"data type:\"), data_type])\n",
    "\n",
    "path = widgets.FileUpload(\n",
    "    accept='',  # Accepted file extension e.g. '.txt', '.pdf', 'image/*', 'image/*,.pdf'\n",
    "    multiple=True)\n",
    "w_path = widgets.HBox([widgets.Label(\"files :\"), path])\n",
    "\n",
    "display(w_dirpath, w_path)"
   ]
  },
  {
   "cell_type": "code",
   "execution_count": 12,
   "id": "62dd7bd8-bc80-4acf-9bbb-64c495340e56",
   "metadata": {
    "tags": []
   },
   "outputs": [],
   "source": [
    "os.chdir(dirpath.value)\n",
    "files = list(path.value.keys())\n",
    "dat = np.loadtxt(files[0]).T\n",
    "x = dat[0]"
   ]
  },
  {
   "cell_type": "code",
   "execution_count": 22,
   "id": "41c69e4c-3432-47a0-9527-3eb55edae056",
   "metadata": {},
   "outputs": [],
   "source": [
    "interactive_plot = interactive(plot, \n",
    "                               fname = files, \n",
    "                               data_type = ['gr', 'fq', 'sq', 'iq'], \n",
    "                               xmin=(x.min()-x.min()/10, x.max()), \n",
    "                               xmax = (x.min(),x.max()+x.max()/10), \n",
    "                               yshift=(-5,5,0.1))\n",
    "output = interactive_plot.children[-1]"
   ]
  },
  {
   "cell_type": "code",
   "execution_count": 23,
   "id": "b52397c0-6eb5-42c9-9767-2bd01d847252",
   "metadata": {},
   "outputs": [
    {
     "data": {
      "application/vnd.jupyter.widget-view+json": {
       "model_id": "0ed1d73a961942a48b4031d8e10f8891",
       "version_major": 2,
       "version_minor": 0
      },
      "text/plain": [
       "interactive(children=(Dropdown(description='fname', options=('example.dat',), value='example.dat'), Dropdown(d…"
      ]
     },
     "metadata": {},
     "output_type": "display_data"
    }
   ],
   "source": [
    "interactive_plot"
   ]
  },
  {
   "cell_type": "code",
   "execution_count": null,
   "id": "36f41536-eef8-4c92-bf2c-cceb77b0e616",
   "metadata": {},
   "outputs": [],
   "source": []
  }
 ],
 "metadata": {
  "kernelspec": {
   "display_name": "Python 3 (ipykernel)",
   "language": "python",
   "name": "python3"
  },
  "language_info": {
   "codemirror_mode": {
    "name": "ipython",
    "version": 3
   },
   "file_extension": ".py",
   "mimetype": "text/x-python",
   "name": "python",
   "nbconvert_exporter": "python",
   "pygments_lexer": "ipython3",
   "version": "3.7.10"
  },
  "toc-autonumbering": false,
  "toc-showcode": true,
  "toc-showmarkdowntxt": false
 },
 "nbformat": 4,
 "nbformat_minor": 5
}
