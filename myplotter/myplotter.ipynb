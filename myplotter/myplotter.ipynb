{
 "cells": [
  {
   "cell_type": "code",
   "execution_count": 1,
   "id": "e2b39364-0a79-4b02-a33b-cd7f9cba59ad",
   "metadata": {
    "tags": []
   },
   "outputs": [],
   "source": [
    "import os\n",
    "import pandas as pd\n",
    "import numpy as np"
   ]
  },
  {
   "cell_type": "code",
   "execution_count": 2,
   "id": "15244745-20d2-495a-809d-fa8c3f73672b",
   "metadata": {
    "tags": []
   },
   "outputs": [],
   "source": [
    "# WIDGETS\n",
    "import ipywidgets as widgets\n",
    "from ipywidgets import interact, interactive, fixed, interact_manual\n",
    "from IPython.display import display"
   ]
  },
  {
   "cell_type": "code",
   "execution_count": 3,
   "id": "22de0dfc-a26a-4a95-804d-99c181a4a9a0",
   "metadata": {
    "tags": []
   },
   "outputs": [
    {
     "data": {
      "text/plain": [
       "<matplotlib.pyplot._IonContext at 0x7f090d536110>"
      ]
     },
     "execution_count": 3,
     "metadata": {},
     "output_type": "execute_result"
    }
   ],
   "source": [
    "# plot\n",
    "import matplotlib.pyplot as plt\n",
    "import bg_mpl_stylesheet\n",
    "from bg_mpl_stylesheet.bg_mpl_stylesheet import bg_mpl_style\n",
    "plt.style.use(bg_mpl_style)\n",
    "plt.ion()\n"
   ]
  },
  {
   "cell_type": "code",
   "execution_count": 4,
   "id": "fbf650e1-243e-4a37-852a-a382ed77757a",
   "metadata": {
    "tags": []
   },
   "outputs": [],
   "source": [
    "def get_x_fitting_range(x, y, xrange: list):\n",
    "    # x bound\n",
    "    if xrange[0] == \"min\":\n",
    "        xmin = float(x.min())\n",
    "    else:\n",
    "        xmin = float(xrange[0])\n",
    "    if xrange[1] == \"max\":\n",
    "        xmax = float(x.max())\n",
    "    else:\n",
    "        xmax = float(xrange[1])\n",
    "    assert all([isinstance(xmin, float), isinstance(xmax, float)])\n",
    "    \n",
    "    bool_range = np.logical_and((x <= xmax), (x >= xmin))\n",
    "    _x = x[bool_range]\n",
    "    _y = list()\n",
    "    for i, yi in enumerate(y):\n",
    "        yi = yi[bool_range]\n",
    "        _y.append(yi)\n",
    "    return _x, np.array(_y)"
   ]
  },
  {
   "cell_type": "code",
   "execution_count": 5,
   "id": "833dce8b-e55c-4d05-9cc8-094ac6cf78db",
   "metadata": {
    "tags": []
   },
   "outputs": [],
   "source": [
    "def xy_dim_labels(xy_lable: str):\n",
    "    dim_y = xy_lable[0]\n",
    "    dim_x = xy_lable[1]\n",
    "    if dim_y == 'i':\n",
    "        dim_y = 'I (a.u.)'\n",
    "    elif dim_y == 's':\n",
    "        dim_y = 'S ($\\mathrm{\\AA^{-1}})$'\n",
    "    elif dim_y == 'f':\n",
    "        dim_y = 'F ($\\mathrm{\\AA^{-1}})$'\n",
    "    elif dim_y == 'g':\n",
    "        dim_y = 'G ($\\mathrm{\\AA^{-2}})$'\n",
    "    if dim_x == 'q':\n",
    "        dim_x = 'Q ($\\mathrm{\\AA^{-1}})$'\n",
    "    elif dim_x == 'r':\n",
    "        dim_x = 'r ($\\mathrm{\\AA})$'\n",
    "    return dim_x, dim_y"
   ]
  },
  {
   "cell_type": "code",
   "execution_count": 23,
   "id": "91a0acbb-a6c6-4570-a7ae-ff8e989e19c1",
   "metadata": {},
   "outputs": [],
   "source": [
    "# plot\n",
    "def _setup_fig():\n",
    "    if plt.fignum_exists(1):\n",
    "        plt.clf()\n",
    "    fig, ax = plt.subplots(num='plot')\n",
    "    return fig, ax\n",
    "\n",
    "def _setup_files(files):\n",
    "    if isinstance(files, str):\n",
    "        files = [files]\n",
    "    return files\n",
    "\n",
    "def _collect_data(files, xmin, xmax):\n",
    "    # collect data \n",
    "    ys = list()\n",
    "    for fname in files: \n",
    "        dat = np.loadtxt(fname).T\n",
    "        x = dat[0]\n",
    "        y = dat[1:4]\n",
    "        x, y = get_x_fitting_range(x, y, [xmin, xmax])\n",
    "        ys.append(y)\n",
    "    return x, ys\n",
    "\n",
    "def _plot(fig, ax, x,y, yshift, data_type, fname):\n",
    "    # assign\n",
    "    y, diff, fit = y[0:3]\n",
    "    \n",
    "    # plot\n",
    "    ax.set_title(f\"Fit:  {fname}\")\n",
    "    dim_x, dim_y = xy_dim_labels(data_type)\n",
    "    ax.set_xlabel(dim_x)\n",
    "    ax.set_ylabel(dim_y)\n",
    "    ax.set_xlim(x.min(),x.max())\n",
    "\n",
    "    ## data\n",
    "    ax.plot(x, np.zeros(len(x)), alpha=0.5, c='C4')\n",
    "    ax.plot(x, y, alpha=0.6, marker='o', markeredgewidth=1, fillstyle='none', markersize=7,  c=\"C0\", label='data')\n",
    "\n",
    "    ## fit\n",
    "    ax.plot(x, fit, alpha=0.8, c=\"C1\", label='fit')\n",
    "\n",
    "    ## diff\n",
    "    ax.plot(x, np.zeros(len(x)) + (yshift), alpha=0.7, c='C4')\n",
    "    ax.plot(x, diff + (yshift), alpha=0.8, c=\"C2\", label='diff')\n",
    "    \n",
    "    ax.legend()\n",
    "    fig.canvas.flush_events()\n",
    "\n",
    "def _plot_compare(fig, ax, x, ys, yshift, data_type, files, draw_type):\n",
    "    # assign\n",
    "    s = 0\n",
    "    ax.plot(x, np.zeros(len(x)), alpha=0.5, c='C4')\n",
    "    dim_x, dim_y = xy_dim_labels(data_type)\n",
    "    ax.set_xlabel(dim_x)\n",
    "    ax.set_ylabel(dim_y)\n",
    "    ax.set_xlim(x.min(),x.max())\n",
    "    \n",
    "    ax.set_title(f'{draw_type}')\n",
    "    for y, fname in zip(ys, files):\n",
    "        if draw_type == 'data': \n",
    "            y = y[0]\n",
    "        if draw_type == 'fit': \n",
    "            y = y[2]\n",
    "        if draw_type == 'diff': \n",
    "            y = y[1]\n",
    "        ax.plot(x, y  + s, alpha=0.8, label=fname)\n",
    "        s += yshift \n",
    "    ax.legend()\n",
    "    fig.canvas.flush_events()"
   ]
  },
  {
   "cell_type": "code",
   "execution_count": 24,
   "id": "f0db23cb-9a35-4e26-a776-9a6a5555adaf",
   "metadata": {},
   "outputs": [],
   "source": [
    "def draw(fname, data_type:str, xmin:float, xmax:float, yshift:float):\n",
    "    files = _setup_files(fname)\n",
    "    fig, ax = _setup_fig()\n",
    "    x, ys = _collect_data(files, xmin, xmax)\n",
    "    y = ys[0]\n",
    "    _plot(fig, ax, x,y, yshift, data_type, fname)\n",
    "    \n",
    "def draw_compare_data(compare_all: bool, file1:str, file2:str, draw_type: str,\n",
    "                      data_type:str, xmin:float, xmax:float, yshift:float):\n",
    "    files = FILES\n",
    "    if not compare_all:\n",
    "        files = [file1] + [file2]\n",
    "    fig, ax = _setup_fig()\n",
    "    x, ys = _collect_data(files, xmin, xmax)\n",
    "    _plot_compare(fig, ax, x, ys, yshift, data_type, files, draw_type)   "
   ]
  },
  {
   "cell_type": "code",
   "execution_count": 8,
   "id": "641e5e75-2637-4501-a26e-22c15ef8b0af",
   "metadata": {},
   "outputs": [],
   "source": [
    "def set_dirpath(dirpath):\n",
    "    os.chdir(os.path.abspath(dirpath))"
   ]
  },
  {
   "cell_type": "code",
   "execution_count": 9,
   "id": "ce57b5db-8448-4b68-8509-b8d8a4b7ecb2",
   "metadata": {
    "tags": []
   },
   "outputs": [],
   "source": [
    "path = widgets.FileUpload(\n",
    "    accept='',  # Accepted file extension e.g. '.txt', '.pdf', 'image/*', 'image/*,.pdf'\n",
    "    multiple=True)\n",
    "w_path = widgets.HBox([widgets.Label(\"files :\"), path])"
   ]
  },
  {
   "cell_type": "code",
   "execution_count": 11,
   "id": "fc1513c4-1db6-40bb-84d4-703cec14a306",
   "metadata": {},
   "outputs": [
    {
     "data": {
      "application/vnd.jupyter.widget-view+json": {
       "model_id": "30215e818b2b4a2cae1f532c88a7271c",
       "version_major": 2,
       "version_minor": 0
      },
      "text/plain": [
       "interactive(children=(Text(value='', description='dirpath'), Button(description='Run Interact', style=ButtonSt…"
      ]
     },
     "metadata": {},
     "output_type": "display_data"
    },
    {
     "data": {
      "application/vnd.jupyter.widget-view+json": {
       "model_id": "b962cf3ae13d466f8fb0e959ea4d9dfa",
       "version_major": 2,
       "version_minor": 0
      },
      "text/plain": [
       "HBox(children=(Label(value='files :'), FileUpload(value={'CoCrNi-A1.dat': {'metadata': {'name': 'CoCrNi-A1.dat…"
      ]
     },
     "metadata": {},
     "output_type": "display_data"
    }
   ],
   "source": [
    "interact_manual(set_dirpath, dirpath='')\n",
    "display(w_path)"
   ]
  },
  {
   "cell_type": "code",
   "execution_count": 29,
   "id": "fb4f3bb2-fd4c-4c41-beb7-a7de55f4b229",
   "metadata": {},
   "outputs": [
    {
     "name": "stdout",
     "output_type": "stream",
     "text": [
      "/home/yr2369/dev/pdfgui_plotter/myplotter\n",
      "['CoCrNi-A1.dat', 'CoCrNi-A2.dat', 'example.dat']\n"
     ]
    }
   ],
   "source": [
    "# global \n",
    "FILES = list(path.value.keys())\n",
    "print(os.getcwd())\n",
    "print(FILES)"
   ]
  },
  {
   "cell_type": "code",
   "execution_count": 30,
   "id": "731c7dc2-9297-47a1-b7a4-54955e93d500",
   "metadata": {},
   "outputs": [],
   "source": [
    "# get x range\n",
    "dat = np.loadtxt(FILES[0]).T\n",
    "x = dat[0]"
   ]
  },
  {
   "cell_type": "code",
   "execution_count": 31,
   "id": "41c69e4c-3432-47a0-9527-3eb55edae056",
   "metadata": {},
   "outputs": [],
   "source": [
    "interactive_draw = interactive(draw, \n",
    "                               fname = FILES, \n",
    "                               data_type = ['gr', 'fq', 'sq', 'iq'], \n",
    "                               xmin=(x.min()-x.min()/10, x.max()), \n",
    "                               xmax = (x.min(),x.max()+x.max()/10), \n",
    "                               yshift=(-5,5,0.1))"
   ]
  },
  {
   "cell_type": "code",
   "execution_count": 32,
   "id": "7d649020-05e2-4c5b-a9ce-5a0bdeb35400",
   "metadata": {},
   "outputs": [],
   "source": [
    "%matplotlib qt"
   ]
  },
  {
   "cell_type": "code",
   "execution_count": 33,
   "id": "7f95fc85-9e94-4000-8fa3-f846fcda4fa2",
   "metadata": {},
   "outputs": [],
   "source": [
    "# %matplotlib inline"
   ]
  },
  {
   "cell_type": "code",
   "execution_count": 34,
   "id": "b52397c0-6eb5-42c9-9767-2bd01d847252",
   "metadata": {},
   "outputs": [
    {
     "data": {
      "application/vnd.jupyter.widget-view+json": {
       "model_id": "5438825b3c8145969749052cd3fe29d2",
       "version_major": 2,
       "version_minor": 0
      },
      "text/plain": [
       "interactive(children=(Dropdown(description='fname', options=('CoCrNi-A1.dat', 'CoCrNi-A2.dat', 'example.dat'),…"
      ]
     },
     "metadata": {},
     "output_type": "display_data"
    }
   ],
   "source": [
    "interactive_draw"
   ]
  },
  {
   "cell_type": "code",
   "execution_count": 35,
   "id": "36f41536-eef8-4c92-bf2c-cceb77b0e616",
   "metadata": {},
   "outputs": [],
   "source": [
    "interactive_draw_compare_data = interactive(draw_compare_data, \n",
    "                                            compare_all = False,\n",
    "                                            file1 = FILES,\n",
    "                                            file2 = FILES,\n",
    "                                            draw_type = ['data', 'fit', 'diff'],\n",
    "                                            data_type = ['gr', 'fq', 'sq', 'iq'], \n",
    "                                            xmin=(x.min()-x.min()/10, x.max()), \n",
    "                                            xmax = (x.min(),x.max()+x.max()/10), \n",
    "                                            yshift=(-5,5,0.1))"
   ]
  },
  {
   "cell_type": "code",
   "execution_count": 36,
   "id": "fc7ac7d2-04a5-42b7-baeb-c20f1a5ef44b",
   "metadata": {},
   "outputs": [
    {
     "data": {
      "application/vnd.jupyter.widget-view+json": {
       "model_id": "aa3933c0851f4c7cbc4de678bff5e705",
       "version_major": 2,
       "version_minor": 0
      },
      "text/plain": [
       "interactive(children=(Checkbox(value=False, description='compare_all'), Dropdown(description='file1', options=…"
      ]
     },
     "metadata": {},
     "output_type": "display_data"
    }
   ],
   "source": [
    "interactive_draw_compare_data"
   ]
  },
  {
   "cell_type": "code",
   "execution_count": null,
   "id": "bc6fcb57-7fa3-4b93-b236-34fc9bb1279c",
   "metadata": {},
   "outputs": [],
   "source": []
  },
  {
   "cell_type": "code",
   "execution_count": null,
   "id": "e34ba85e-75e7-4052-a836-fb5452763b0c",
   "metadata": {},
   "outputs": [],
   "source": []
  }
 ],
 "metadata": {
  "kernelspec": {
   "display_name": "Python 3 (ipykernel)",
   "language": "python",
   "name": "python3"
  },
  "language_info": {
   "codemirror_mode": {
    "name": "ipython",
    "version": 3
   },
   "file_extension": ".py",
   "mimetype": "text/x-python",
   "name": "python",
   "nbconvert_exporter": "python",
   "pygments_lexer": "ipython3",
   "version": "3.7.10"
  },
  "toc-autonumbering": false,
  "toc-showcode": true,
  "toc-showmarkdowntxt": false
 },
 "nbformat": 4,
 "nbformat_minor": 5
}
