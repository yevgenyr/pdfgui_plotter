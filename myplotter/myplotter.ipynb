{
 "cells": [
  {
   "cell_type": "code",
   "execution_count": 1,
   "id": "e2b39364-0a79-4b02-a33b-cd7f9cba59ad",
   "metadata": {
    "tags": []
   },
   "outputs": [],
   "source": [
    "import os\n",
    "import json\n",
    "import pandas as pd\n",
    "import numpy as np\n",
    "import xarray as xr"
   ]
  },
  {
   "cell_type": "code",
   "execution_count": 2,
   "id": "15244745-20d2-495a-809d-fa8c3f73672b",
   "metadata": {
    "tags": []
   },
   "outputs": [],
   "source": [
    "# WIDGETS\n",
    "import ipywidgets as widgets\n",
    "from ipywidgets import interact, interactive, fixed, interact_manual\n",
    "from IPython.display import display"
   ]
  },
  {
   "cell_type": "code",
   "execution_count": 3,
   "id": "22de0dfc-a26a-4a95-804d-99c181a4a9a0",
   "metadata": {
    "tags": []
   },
   "outputs": [
    {
     "data": {
      "text/plain": [
       "<matplotlib.pyplot._IonContext at 0x7fd274407fd0>"
      ]
     },
     "execution_count": 3,
     "metadata": {},
     "output_type": "execute_result"
    }
   ],
   "source": [
    "# plot\n",
    "import matplotlib.pyplot as plt\n",
    "import bg_mpl_stylesheet\n",
    "from bg_mpl_stylesheet.bg_mpl_stylesheet import bg_mpl_style\n",
    "plt.style.use(bg_mpl_style)\n",
    "plt.ion()"
   ]
  },
  {
   "cell_type": "code",
   "execution_count": 4,
   "id": "fbf650e1-243e-4a37-852a-a382ed77757a",
   "metadata": {
    "tags": []
   },
   "outputs": [],
   "source": [
    "def get_x_fitting_range(x, y, xrange: list):\n",
    "    # x bound\n",
    "    if xrange[0] == \"min\":\n",
    "        xmin = float(x.min())\n",
    "    else:\n",
    "        xmin = float(xrange[0])\n",
    "    if xrange[1] == \"max\":\n",
    "        xmax = float(x.max())\n",
    "    else:\n",
    "        xmax = float(xrange[1])\n",
    "    assert all([isinstance(xmin, float), isinstance(xmax, float)])\n",
    "    \n",
    "    bool_range = np.logical_and((x <= xmax), (x >= xmin))\n",
    "    _x = x[bool_range]\n",
    "    _y = list()\n",
    "    for i, yi in enumerate(y):\n",
    "        yi = yi[bool_range]\n",
    "        _y.append(yi)\n",
    "    return _x, np.array(_y)\n",
    "\n",
    "def xy_dim_labels(xy_lable: str):\n",
    "    dim_y = xy_lable[0]\n",
    "    dim_x = xy_lable[1]\n",
    "    if dim_y == 'i':\n",
    "        dim_y = 'I (a.u.)'\n",
    "    elif dim_y == 's':\n",
    "        dim_y = 'S ($\\mathrm{\\AA^{-1}})$'\n",
    "    elif dim_y == 'f':\n",
    "        dim_y = 'F ($\\mathrm{\\AA^{-1}})$'\n",
    "    elif dim_y == 'g':\n",
    "        dim_y = 'G ($\\mathrm{\\AA^{-2}})$'\n",
    "    if dim_x == 'q':\n",
    "        dim_x = 'Q ($\\mathrm{\\AA^{-1}})$'\n",
    "    elif dim_x == 'r':\n",
    "        dim_x = 'r ($\\mathrm{\\AA})$'\n",
    "    return dim_x, dim_y\n",
    "\n",
    "def dump_da_json(da, path):\n",
    "    da_dict = da.to_dict()\n",
    "    with open(path, '+w') as f:\n",
    "        json.dump(da_dict, f, sort_keys=False, indent=2)"
   ]
  },
  {
   "cell_type": "code",
   "execution_count": 5,
   "id": "91a0acbb-a6c6-4570-a7ae-ff8e989e19c1",
   "metadata": {},
   "outputs": [],
   "source": [
    "def _setup_fig():\n",
    "    if plt.fignum_exists(1):\n",
    "        plt.clf()\n",
    "    fig, ax = plt.subplots(num='plot')\n",
    "    return fig, ax\n",
    "\n",
    "def _setup_files(files):\n",
    "    if isinstance(files, str):\n",
    "        files = [files]\n",
    "    return files\n",
    "\n",
    "def _collect_data(files, xmin, xmax):\n",
    "    # collect data \n",
    "    ys = list()\n",
    "    for fname in files: \n",
    "        dat = np.loadtxt(fname).T\n",
    "        x = dat[0]\n",
    "        y = dat[1:]\n",
    "        x, y = get_x_fitting_range(x, y, [xmin, xmax])\n",
    "        ys.append(y)\n",
    "    return x, ys\n",
    "\n",
    "def _collect_feature_data(files):\n",
    "    ys = list()\n",
    "    for fname in files: \n",
    "        dat = np.loadtxt(fname).T\n",
    "        if XLABELS:\n",
    "            x = XLABELS\n",
    "        else:\n",
    "            x = dat[0]\n",
    "        y = dat[1]\n",
    "        ys.append(y)\n",
    "    return x, ys\n",
    "\n",
    "def _sum_to_1(arr: np.ndarray , axis:int = 0):\n",
    "    norm = 1/arr.sum(axis=axis)\n",
    "    arr = norm*arr\n",
    "    return arr\n",
    "\n",
    "def split_and_squeeze(arr):\n",
    "    arr = np.split((arr), len(arr))\n",
    "    arr = list(a.squeeze() for a in arr)\n",
    "    return arr\n",
    "\n",
    "def get_rw(y1, y2):\n",
    "    \"\"\" y1 = data ; y2 = calc \"\"\"\n",
    "    return float(np.sqrt((((y1 - y2) ** 2).sum()) / ((y2 ** 2).sum()))).__round__(3)"
   ]
  },
  {
   "cell_type": "code",
   "execution_count": 6,
   "id": "0ac01598-dc91-4309-ab94-bf3cc0d18b58",
   "metadata": {},
   "outputs": [],
   "source": [
    "def _plot(fig, ax, x,y, yshift, data_type, fname, add_legends):\n",
    "    # assign\n",
    "    y, diff, fit = y[0:3]\n",
    "    \n",
    "    # plot\n",
    "    ax.set_title(f\"{fname}\")\n",
    "    dim_x, dim_y = xy_dim_labels(data_type)\n",
    "    ax.set_xlabel(dim_x)\n",
    "    ax.set_ylabel(dim_y)\n",
    "    ax.set_xlim(x.min(),x.max())\n",
    "\n",
    "    ## data\n",
    "    ax.plot(x, np.zeros(len(x)), alpha=0.5, c='C4')\n",
    "    ax.plot(x, y, alpha=0.4, marker='o', markeredgewidth=1, fillstyle='none', markersize=7,  c=\"C0\", label='data')\n",
    "\n",
    "    ## fit\n",
    "    ax.plot(x, fit, alpha=0.8, c=\"C1\", label='fit')\n",
    "\n",
    "    ## diff\n",
    "    ax.plot(x, np.zeros(len(x)) + (yshift), alpha=0.7, c='C4')\n",
    "    ax.plot(x, diff + (yshift), alpha=0.8, c=\"C2\", label='diff')\n",
    "    \n",
    "    if add_legends:\n",
    "        ax.legend()\n",
    "    fig.canvas.flush_events()\n",
    "\n",
    "def _plot_compare(fig, ax, x, ys, yshift, data_type, files, draw_type, add_diff, diff_shift, mult_scaling, same_color, add_legends):\n",
    "    # assign\n",
    "    s = 0\n",
    "    if yshift==0:\n",
    "        ax.plot(x, np.zeros(len(x)), alpha=0.5, c='C4')\n",
    "    dim_x, dim_y = xy_dim_labels(data_type)\n",
    "    ax.set_xlabel(dim_x)\n",
    "    ax.set_ylabel(dim_y)\n",
    "    ax.set_xlim(x.min(),x.max())\n",
    "    ax.set_title(f'{draw_type}')\n",
    "    diff = None\n",
    "    for i, (y, fname) in enumerate(zip(ys, files)):\n",
    "        if draw_type == 'data': \n",
    "            y = y[0]\n",
    "        if draw_type == 'fit': \n",
    "            y = y[2]\n",
    "        if draw_type == 'diff': \n",
    "            y = y[1]\n",
    "        if i == 0:\n",
    "            diff = y \n",
    "        if i == 1:\n",
    "            y = y * mult_scaling\n",
    "            diff -= y\n",
    "        if same_color:\n",
    "            c = 'C0'\n",
    "        else:\n",
    "            c = f'C{i}'\n",
    "        ax.plot(x, y  + s, alpha=0.8, label=fname, c=c)\n",
    "        s += yshift \n",
    "    if len(files) == 2 and add_diff:\n",
    "#         rw = get_rw(ys[0], ys[1])\n",
    "#         rw = np.abs(np.sum(diff)).__round__(3)\n",
    "        ax.plot(x, np.zeros(len(x)) + diff_shift, alpha=0.5, c='C4')\n",
    "        ax.plot(x, diff + diff_shift, alpha=0.8, label=f'diff')\n",
    "    \n",
    "    if add_legends:\n",
    "        ax.legend()\n",
    "        \n",
    "    fig.canvas.flush_events()\n",
    "\n",
    "    \n",
    "def _scatter_features(fig, ax, x, ys, files, marker1, marker2, linewidth, add_legends):\n",
    "    # assign\n",
    "    ax.set_xlabel(DIMX)\n",
    "    ax.set_ylabel(DIMY)\n",
    "    ax.set_title(f'{TITLE}')\n",
    "    for i, (y, fname) in enumerate(zip(ys, files)):\n",
    "        if len(ys) == 2:\n",
    "            if i == 0:\n",
    "                ax.plot(x, y, '--', alpha=0.8, lw = linewidth, marker = marker1, label=fname)\n",
    "            elif i == 1:\n",
    "                ax.plot(x, y, '--', alpha=0.8,  lw = linewidth, marker = marker2, label=fname)\n",
    "        else:\n",
    "            ax.plot(x, y, '--', alpha=0.8,  lw = linewidth, marker = MARKERS[i], label=fname)\n",
    "    \n",
    "    if add_legends:\n",
    "        ax.legend()\n",
    "    fig.canvas.flush_events()\n"
   ]
  },
  {
   "cell_type": "code",
   "execution_count": 7,
   "id": "f0db23cb-9a35-4e26-a776-9a6a5555adaf",
   "metadata": {},
   "outputs": [],
   "source": [
    "def draw(fname, data_type:str, xmin:float, xmax:float, yshift:float, add_legends:bool):\n",
    "    files = _setup_files(fname)\n",
    "    fig, ax = _setup_fig()\n",
    "    x, ys = _collect_data(files, xmin, xmax)\n",
    "    y = ys[0]\n",
    "    _plot(fig, ax, x,y, yshift, data_type, fname, add_legends)\n",
    "    \n",
    "def draw_compare_data(compare_all: bool, file1:str, file2:str, draw_type: str, add_diff:bool,\n",
    "                      data_type:str, xmin:float, xmax:float, yshift:float, diff_shift:float, mult_scaling:float, \n",
    "                      same_color: bool, add_legends: bool):\n",
    "    files = FILES\n",
    "    if not compare_all:\n",
    "        files = [file1] + [file2]\n",
    "    fig, ax = _setup_fig()\n",
    "    x, ys = _collect_data(files, xmin, xmax)\n",
    "    _plot_compare(fig, ax, x, ys, yshift, data_type, files, draw_type, add_diff, diff_shift, mult_scaling, same_color, add_legends)   \n",
    "    \n",
    "def draw_features(compare_all: bool, normalize: bool,\n",
    "                  special_pre_norm:bool, special_post_norm:bool, \n",
    "                  file1:str, file2:str, marker1, marker2, linewidth, add_legends):\n",
    "    files = FILES\n",
    "    if not compare_all:\n",
    "        files = [file1] + [file2]        \n",
    "    fig, ax = _setup_fig()\n",
    "    x, ys = _collect_feature_data(files)\n",
    "    ys = np.array(ys)\n",
    "    if special_pre_norm:\n",
    "        ys = special_f1(ys)\n",
    "    if normalize:\n",
    "        ys = _sum_to_1(ys, axis=0)\n",
    "    if special_post_norm:\n",
    "        ys = special_f2(ys)\n",
    "    ys = split_and_squeeze(ys)\n",
    "    _scatter_features(fig, ax, x, ys, files, marker1, marker2, linewidth, add_legends) "
   ]
  },
  {
   "cell_type": "code",
   "execution_count": 8,
   "id": "6a0f97a7-fab1-4472-96ed-2dbc87477cf3",
   "metadata": {},
   "outputs": [
    {
     "name": "stdout",
     "output_type": "stream",
     "text": [
      "[1 2 3]\n",
      "[3 2 1]\n",
      "2\n",
      "[[1 2 3]\n",
      " [3 2 1]]\n"
     ]
    },
    {
     "data": {
      "text/plain": [
       "array([[0.25, 0.5 , 0.75],\n",
       "       [0.75, 0.5 , 0.25]])"
      ]
     },
     "execution_count": 8,
     "metadata": {},
     "output_type": "execute_result"
    }
   ],
   "source": [
    "arr = np.array([[1,2,3], [3,2,1]])\n",
    "for a in arr:\n",
    "    print(a)\n",
    "\n",
    "print(len(arr))\n",
    "print(arr)\n",
    "_sum_to_1(arr)"
   ]
  },
  {
   "cell_type": "code",
   "execution_count": 9,
   "id": "641e5e75-2637-4501-a26e-22c15ef8b0af",
   "metadata": {},
   "outputs": [],
   "source": [
    "def set_dirpath(dirpath):\n",
    "    os.chdir(os.path.abspath(dirpath))"
   ]
  },
  {
   "cell_type": "code",
   "execution_count": 10,
   "id": "ce57b5db-8448-4b68-8509-b8d8a4b7ecb2",
   "metadata": {
    "tags": []
   },
   "outputs": [],
   "source": [
    "path = widgets.FileUpload(\n",
    "    accept='',  # Accepted file extension e.g. '.txt', '.pdf', 'image/*', 'image/*,.pdf'\n",
    "    multiple=True)\n",
    "w_path = widgets.HBox([widgets.Label(\"files :\"), path])"
   ]
  },
  {
   "cell_type": "code",
   "execution_count": 16,
   "id": "fc1513c4-1db6-40bb-84d4-703cec14a306",
   "metadata": {},
   "outputs": [
    {
     "data": {
      "application/vnd.jupyter.widget-view+json": {
       "model_id": "7e399ff8302045fc9d29701afe395a1a",
       "version_major": 2,
       "version_minor": 0
      },
      "text/plain": [
       "interactive(children=(Dropdown(description='dirpath', options=('..',), value='..'), Button(description='Run In…"
      ]
     },
     "metadata": {},
     "output_type": "display_data"
    },
    {
     "name": "stdout",
     "output_type": "stream",
     "text": [
      "/home/yr2369/dev/pdfgui_plotter/myplotter/sim_pair_clustering/fitting results\n",
      " 100   55   65\t 75   85   95\t\t    rw\t   Zr--X\n",
      " 50    60   70\t 80   90  'pair fraction'   X--X   Zr--Zr\n"
     ]
    }
   ],
   "source": [
    "dirpath = list(l for l in os.listdir() if os.path.isdir(os.path.abspath(l)))\n",
    "interact_manual(set_dirpath, dirpath=dirpath+['..'])\n",
    "!pwd\n",
    "!ls"
   ]
  },
  {
   "cell_type": "code",
   "execution_count": 12,
   "id": "3bd190d7-cea0-4482-9900-333cab43a6b2",
   "metadata": {},
   "outputs": [
    {
     "data": {
      "application/vnd.jupyter.widget-view+json": {
       "model_id": "fb36b2e7de1345419478c000887ca30a",
       "version_major": 2,
       "version_minor": 0
      },
      "text/plain": [
       "HBox(children=(Label(value='files :'), FileUpload(value={}, description='Upload', multiple=True)))"
      ]
     },
     "metadata": {},
     "output_type": "display_data"
    }
   ],
   "source": [
    "display(w_path)"
   ]
  },
  {
   "cell_type": "code",
   "execution_count": 17,
   "id": "fb4f3bb2-fd4c-4c41-beb7-a7de55f4b229",
   "metadata": {},
   "outputs": [
    {
     "name": "stdout",
     "output_type": "stream",
     "text": [
      "/home/yr2369/dev/pdfgui_plotter/myplotter/sim_pair_clustering/fitting results\n",
      "['Zr--X', 'Zr--Zr', 'X--X']\n"
     ]
    }
   ],
   "source": [
    "# global \n",
    "FILES = list(path.value.keys())\n",
    "print(os.getcwd())\n",
    "print(FILES)"
   ]
  },
  {
   "cell_type": "code",
   "execution_count": 18,
   "id": "731c7dc2-9297-47a1-b7a4-54955e93d500",
   "metadata": {},
   "outputs": [],
   "source": [
    "# get x range\n",
    "dat = np.loadtxt(FILES[0]).T\n",
    "x = dat[0]"
   ]
  },
  {
   "cell_type": "code",
   "execution_count": 19,
   "id": "41c69e4c-3432-47a0-9527-3eb55edae056",
   "metadata": {},
   "outputs": [],
   "source": [
    "interactive_draw = interactive(draw, \n",
    "                               fname = FILES, \n",
    "                               data_type = ['gr', 'fq', 'sq', 'iq'], \n",
    "                               xmin=(x.min()-x.min()/10, x.max()), \n",
    "                               xmax = (x.min(),x.max()+x.max()/10), \n",
    "                               yshift=(-5,5,0.1),\n",
    "                               add_legends = True)"
   ]
  },
  {
   "cell_type": "code",
   "execution_count": 20,
   "id": "7d649020-05e2-4c5b-a9ce-5a0bdeb35400",
   "metadata": {},
   "outputs": [],
   "source": [
    "%matplotlib qt"
   ]
  },
  {
   "cell_type": "code",
   "execution_count": 21,
   "id": "7f95fc85-9e94-4000-8fa3-f846fcda4fa2",
   "metadata": {},
   "outputs": [],
   "source": [
    "%matplotlib inline"
   ]
  },
  {
   "cell_type": "code",
   "execution_count": 22,
   "id": "b52397c0-6eb5-42c9-9767-2bd01d847252",
   "metadata": {
    "tags": []
   },
   "outputs": [
    {
     "data": {
      "application/vnd.jupyter.widget-view+json": {
       "model_id": "3227c4b01f1a4628b595125723ba370a",
       "version_major": 2,
       "version_minor": 0
      },
      "text/plain": [
       "interactive(children=(Dropdown(description='fname', options=('Zr--X', 'Zr--Zr', 'X--X'), value='Zr--X'), Dropd…"
      ]
     },
     "metadata": {},
     "output_type": "display_data"
    },
    {
     "data": {
      "image/png": "[encoded data removed]",
      "text/plain": [
       "<Figure size 432x288 with 1 Axes>"
      ]
     },
     "metadata": {
      "needs_background": "light"
     },
     "output_type": "display_data"
    }
   ],
   "source": [
    "interactive_draw"
   ]
  },
  {
   "cell_type": "code",
   "execution_count": 23,
   "id": "36f41536-eef8-4c92-bf2c-cceb77b0e616",
   "metadata": {},
   "outputs": [],
   "source": [
    "interactive_draw_compare_data = interactive(draw_compare_data, \n",
    "                                            compare_all = False,\n",
    "                                            file1 = FILES,\n",
    "                                            file2 = FILES,\n",
    "                                            draw_type = ['data', 'fit', 'diff'],\n",
    "                                            mult_scaling = (0, 2, 0.01),\n",
    "                                            add_diff = False,\n",
    "                                            data_type = ['gr', 'fq', 'sq', 'iq'], \n",
    "                                            xmin=(x.min()-x.min()/10, x.max()), \n",
    "                                            xmax = (x.min(),x.max()+x.max()/10), \n",
    "                                            yshift=(-5,5,0.1), \n",
    "                                            diff_shift = (-5,5,0.1),\n",
    "                                           same_color = False, \n",
    "                                           add_legends = False)"
   ]
  },
  {
   "cell_type": "code",
   "execution_count": 24,
   "id": "fc7ac7d2-04a5-42b7-baeb-c20f1a5ef44b",
   "metadata": {},
   "outputs": [
    {
     "data": {
      "application/vnd.jupyter.widget-view+json": {
       "model_id": "0fc522c640e1412cb267e75ddcb74a11",
       "version_major": 2,
       "version_minor": 0
      },
      "text/plain": [
       "interactive(children=(Checkbox(value=False, description='compare_all'), Dropdown(description='file1', options=…"
      ]
     },
     "metadata": {},
     "output_type": "display_data"
    },
    {
     "data": {
      "image/png": "[encoded data removed]",
      "text/plain": [
       "<Figure size 432x288 with 1 Axes>"
      ]
     },
     "metadata": {
      "needs_background": "light"
     },
     "output_type": "display_data"
    }
   ],
   "source": [
    "interactive_draw_compare_data"
   ]
  },
  {
   "cell_type": "code",
   "execution_count": 25,
   "id": "bc6fcb57-7fa3-4b93-b236-34fc9bb1279c",
   "metadata": {},
   "outputs": [],
   "source": [
    "XLABELS = np.arange(50,105,5).tolist()\n",
    "# XLABELS = None\n",
    "DIMX = 'y index'\n",
    "DIMY = 'pair \\%'\n",
    "TITLE = ''\n",
    "# MARKERS = ['o','s', 'p', 'h', '8',  '.', 'v','<', 'X']\n",
    "MARKERS = ['o', 'o', 'o']"
   ]
  },
  {
   "cell_type": "code",
   "execution_count": 26,
   "id": "40daf0ec-afab-44b6-8354-cbe60ec75b82",
   "metadata": {},
   "outputs": [],
   "source": [
    "interactive_draw_features = interactive(draw_features, \n",
    "                                        compare_all = False,\n",
    "                                        normalize = False,  \n",
    "                                        special_pre_norm= False, \n",
    "                                        special_post_norm = False,\n",
    "                                        special = False,\n",
    "                                        file1 = FILES,\n",
    "                                        file2 = FILES,\n",
    "                                        marker1 = MARKERS,\n",
    "                                        marker2 = MARKERS,\n",
    "                                        linewidth = [1,2,3,4,5,0],\n",
    "                                        add_legends = False,\n",
    "                                        )"
   ]
  },
  {
   "cell_type": "code",
   "execution_count": 27,
   "id": "8bb7c4e7-8e91-4a4b-9d05-dce03fce85c1",
   "metadata": {},
   "outputs": [],
   "source": [
    "def special_f1(ys):\n",
    "    ys = split_and_squeeze(ys)\n",
    "    X_Zr = ys.pop(-1)\n",
    "    ys = np.array(ys)\n",
    "    ys = ys + X_Zr/2\n",
    "    return ys\n",
    "\n",
    "def special_f2(ys):\n",
    "    return ys*100"
   ]
  },
  {
   "cell_type": "code",
   "execution_count": 31,
   "id": "e34ba85e-75e7-4052-a836-fb5452763b0c",
   "metadata": {
    "tags": []
   },
   "outputs": [
    {
     "data": {
      "application/vnd.jupyter.widget-view+json": {
       "model_id": "f5dba938b0e54856a45d5350070ad320",
       "version_major": 2,
       "version_minor": 0
      },
      "text/plain": [
       "interactive(children=(Checkbox(value=True, description='compare_all'), Checkbox(value=True, description='norma…"
      ]
     },
     "metadata": {},
     "output_type": "display_data"
    },
    {
     "data": {
      "image/png": "[encoded data removed]",
      "text/plain": [
       "<Figure size 432x288 with 1 Axes>"
      ]
     },
     "metadata": {
      "needs_background": "light"
     },
     "output_type": "display_data"
    }
   ],
   "source": [
    "interactive_draw_features"
   ]
  },
  {
   "cell_type": "code",
   "execution_count": 52,
   "id": "b8eff421-635b-4177-8aa8-df9b05ddd726",
   "metadata": {},
   "outputs": [
    {
     "ename": "IndexError",
     "evalue": "index 1 is out of bounds for axis 0 with size 1",
     "output_type": "error",
     "traceback": [
      "\u001b[0;31m---------------------------------------------------------------------------\u001b[0m",
      "\u001b[0;31mIndexError\u001b[0m                                Traceback (most recent call last)",
      "\u001b[0;32m/tmp/ipykernel_15451/1165689657.py\u001b[0m in \u001b[0;36m<module>\u001b[0;34m\u001b[0m\n\u001b[1;32m      4\u001b[0m \u001b[0;32mfor\u001b[0m \u001b[0my\u001b[0m\u001b[0;34m,\u001b[0m \u001b[0mf\u001b[0m \u001b[0;32min\u001b[0m \u001b[0mzip\u001b[0m\u001b[0;34m(\u001b[0m\u001b[0mys\u001b[0m\u001b[0;34m,\u001b[0m \u001b[0mFILES\u001b[0m\u001b[0;34m)\u001b[0m\u001b[0;34m:\u001b[0m\u001b[0;34m\u001b[0m\u001b[0;34m\u001b[0m\u001b[0m\n\u001b[1;32m      5\u001b[0m     \u001b[0mdata\u001b[0m \u001b[0;34m=\u001b[0m \u001b[0my\u001b[0m\u001b[0;34m[\u001b[0m\u001b[0;36m0\u001b[0m\u001b[0;34m]\u001b[0m\u001b[0;34m\u001b[0m\u001b[0;34m\u001b[0m\u001b[0m\n\u001b[0;32m----> 6\u001b[0;31m     \u001b[0mdiff\u001b[0m \u001b[0;34m=\u001b[0m \u001b[0my\u001b[0m\u001b[0;34m[\u001b[0m\u001b[0;36m1\u001b[0m\u001b[0;34m]\u001b[0m\u001b[0;34m\u001b[0m\u001b[0;34m\u001b[0m\u001b[0m\n\u001b[0m\u001b[1;32m      7\u001b[0m     \u001b[0mfit\u001b[0m \u001b[0;34m=\u001b[0m \u001b[0my\u001b[0m\u001b[0;34m[\u001b[0m\u001b[0;36m2\u001b[0m\u001b[0;34m]\u001b[0m\u001b[0;34m\u001b[0m\u001b[0;34m\u001b[0m\u001b[0m\n\u001b[1;32m      8\u001b[0m     \u001b[0mda\u001b[0m \u001b[0;34m=\u001b[0m \u001b[0mxr\u001b[0m\u001b[0;34m.\u001b[0m\u001b[0mDataArray\u001b[0m\u001b[0;34m(\u001b[0m\u001b[0mnp\u001b[0m\u001b[0;34m.\u001b[0m\u001b[0marray\u001b[0m\u001b[0;34m(\u001b[0m\u001b[0;34m[\u001b[0m\u001b[0mx\u001b[0m\u001b[0;34m,\u001b[0m\u001b[0mfit\u001b[0m\u001b[0;34m]\u001b[0m\u001b[0;34m)\u001b[0m\u001b[0;34m,\u001b[0m \u001b[0mdims\u001b[0m \u001b[0;34m=\u001b[0m \u001b[0;34m(\u001b[0m\u001b[0;34m'r'\u001b[0m\u001b[0;34m,\u001b[0m \u001b[0;34m'g'\u001b[0m\u001b[0;34m)\u001b[0m\u001b[0;34m,\u001b[0m \u001b[0mattrs\u001b[0m\u001b[0;34m=\u001b[0m\u001b[0;34m{\u001b[0m\u001b[0;34m'config'\u001b[0m\u001b[0;34m:\u001b[0m\u001b[0;34m{\u001b[0m\u001b[0;34m'xmin'\u001b[0m\u001b[0;34m:\u001b[0m\u001b[0mxmin\u001b[0m\u001b[0;34m,\u001b[0m \u001b[0;34m'xmax'\u001b[0m\u001b[0;34m:\u001b[0m\u001b[0mxmax\u001b[0m\u001b[0;34m,\u001b[0m \u001b[0;34m'path'\u001b[0m\u001b[0;34m:\u001b[0m\u001b[0mos\u001b[0m\u001b[0;34m.\u001b[0m\u001b[0mpath\u001b[0m\u001b[0;34m.\u001b[0m\u001b[0mabspath\u001b[0m\u001b[0;34m(\u001b[0m\u001b[0mf\u001b[0m\u001b[0;34m)\u001b[0m\u001b[0;34m}\u001b[0m\u001b[0;34m}\u001b[0m\u001b[0;34m)\u001b[0m\u001b[0;34m\u001b[0m\u001b[0;34m\u001b[0m\u001b[0m\n",
      "\u001b[0;31mIndexError\u001b[0m: index 1 is out of bounds for axis 0 with size 1"
     ]
    }
   ],
   "source": [
    "# serialize to xr json dict for compatibility with \n",
    "xmin, xmax = (2,4)\n",
    "x, ys = _collect_data(FILES, xmin, xmax)\n",
    "for y, f in zip(ys, FILES):\n",
    "    data = y[0]\n",
    "    diff = y[1]\n",
    "    fit = y[2]\n",
    "    da = xr.DataArray(np.array([x,fit]), dims = ('r', 'g'), attrs={'config':{'xmin':xmin, 'xmax':xmax, 'path':os.path.abspath(f)}})\n",
    "    path = \"xrda_00-\" + f.replace('.', '') + \".gr\"\n",
    "    path = os.path.join('for_minipipes', path)\n",
    "    dump_da_json(da, path)"
   ]
  },
  {
   "cell_type": "code",
   "execution_count": 162,
   "id": "8df97d43-77cb-4123-af60-eb2b706dacea",
   "metadata": {},
   "outputs": [],
   "source": [
    "# after generating a fit serias with minipipes --> visuallize results\n",
    "# qoi_results_path = '/home/yr2369/dev/pdfgui_plotter/myplotter/sim_pair_clustering/Ni-Zr/for_minipipes/fits/QOImap_TwoGaussianPoly1.qmap'\n",
    "# qoi_results_path = '/home/yr2369/dev/pdfgui_plotter/myplotter/sim_pair_clustering/Ni-Ni/for_minipipes/fits/QOImap_TwoGaussianPoly1.qmap'\n",
    "qoi_results_path = '/home/yr2369/dev/pdfgui_plotter/myplotter/sim_pair_clustering/Zr-Zr/for_minipipes/fits/QOImap_TwoGaussianPoly1.qmap'\n",
    "\n",
    "fits = json.load(open(qoi_results_path, 'r'))"
   ]
  },
  {
   "cell_type": "code",
   "execution_count": 320,
   "id": "85521b6a-a86a-47a4-a231-509b355d2015",
   "metadata": {},
   "outputs": [
    {
     "data": {
      "text/plain": [
       "['amp_1', 'cen_1', 'wid_1', 'amp_2', 'cen_2', 'wid_2', 'x0', 'x1']"
      ]
     },
     "execution_count": 320,
     "metadata": {},
     "output_type": "execute_result"
    }
   ],
   "source": [
    "qois = fits['prerun']['optimization_parameters']\n",
    "qois"
   ]
  },
  {
   "cell_type": "code",
   "execution_count": 321,
   "id": "1755a22a-f590-4bfb-b276-98a809e507a8",
   "metadata": {},
   "outputs": [],
   "source": [
    "# build result dict \n",
    "x = list()\n",
    "y = dict((qoi,list()) for qoi in qois)\n",
    "y.update({'Rw':list()})\n",
    "for k, v in fits['results'].items():\n",
    "    x.append(v['index'][1]*0.1)\n",
    "    qoi_vals = v['popt']\n",
    "    for qoi_name, qoi_val in zip(qois, qoi_vals):\n",
    "        y[qoi_name].append(qoi_val)\n",
    "    y['Rw'].append(v['Rw'])\n",
    "    \n",
    "# mk qoi lists to np.array obj\n",
    "for k, v in y.items():\n",
    "    y[k] = np.array(v) "
   ]
  },
  {
   "cell_type": "code",
   "execution_count": 322,
   "id": "eb8e4295-9531-4b01-8298-21b9443aaeb9",
   "metadata": {},
   "outputs": [],
   "source": [
    "# set parameters namespace based on key\n",
    "add_Rw = False\n",
    "for qoi in qois:\n",
    "    exec(f'{qoi} = y[\"{qoi}\"]')\n",
    "if add_Rw:\n",
    "    Rw = y[\"Rw\"]"
   ]
  },
  {
   "cell_type": "code",
   "execution_count": 326,
   "id": "0ee86116-550d-4575-a1f4-5f9df01c79f9",
   "metadata": {
    "tags": []
   },
   "outputs": [
    {
     "name": "stdout",
     "output_type": "stream",
     "text": [
      "Zr-Zr\n"
     ]
    },
    {
     "data": {
      "text/plain": [
       "<matplotlib.legend.Legend at 0x7f0c3e2a9910>"
      ]
     },
     "execution_count": 326,
     "metadata": {},
     "output_type": "execute_result"
    },
    {
     "data": {
      "image/png": "[encoded data removed]",
      "text/plain": [
       "<Figure size 432x288 with 1 Axes>"
      ]
     },
     "metadata": {
      "needs_background": "light"
     },
     "output_type": "display_data"
    }
   ],
   "source": [
    "# plot eval_string\n",
    "# plt.clf()\n",
    "# eval_string = \"cen_2-cen_2.min(), cen_1-cen_1.min()\"\n",
    "eval_string = \"cen_1+cen_2\"\n",
    "parsed_eval_string = eval_string.split(',')\n",
    "for eval_str in parsed_eval_string:\n",
    "    eval_str = eval_str.strip()\n",
    "#     eval_str_text = eval_str.replace('_', '\\_')\n",
    "    eval_str_text = qoi_results_path.split('/')[7]\n",
    "    print(eval_str_text)\n",
    "    _y = eval(eval_str)\n",
    "    plt.plot(x,_y, '--o',lw=1,label = eval_str_text)\n",
    "plt.xlabel('\\\\bf{pair density fraction}')\n",
    "plt.ylabel('$\\\\mathrm{\\\\bf{r^{1}_{max}+r^{2}_{max}}}$')\n",
    "# plt.ylim([5.95, 6.11])\n",
    "plt.legend(fontsize=14)"
   ]
  },
  {
   "cell_type": "code",
   "execution_count": null,
   "id": "9fff591b-c37f-41f6-8fbb-5ac896a23e49",
   "metadata": {},
   "outputs": [],
   "source": []
  }
 ],
 "metadata": {
  "kernelspec": {
   "display_name": "Python 3 (ipykernel)",
   "language": "python",
   "name": "python3"
  },
  "language_info": {
   "codemirror_mode": {
    "name": "ipython",
    "version": 3
   },
   "file_extension": ".py",
   "mimetype": "text/x-python",
   "name": "python",
   "nbconvert_exporter": "python",
   "pygments_lexer": "ipython3",
   "version": "3.7.10"
  },
  "toc-autonumbering": false,
  "toc-showcode": true,
  "toc-showmarkdowntxt": false
 },
 "nbformat": 4,
 "nbformat_minor": 5
}
